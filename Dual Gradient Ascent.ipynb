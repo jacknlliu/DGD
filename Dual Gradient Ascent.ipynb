{
 "cells": [
  {
   "cell_type": "code",
   "execution_count": 1,
   "metadata": {
    "collapsed": false
   },
   "outputs": [],
   "source": [
    "import numpy as np\n",
    "import scipy.io as sio\n",
    "import cvxpy as cvx\n",
    "from scipy.stats import entropy\n",
    "%matplotlib inline\n",
    "import matplotlib.pyplot as plt"
   ]
  },
  {
   "cell_type": "markdown",
   "metadata": {},
   "source": [
    "# Dual Gradient Ascent (or Descent)\n",
    "\n",
    "This notebook walks through an example illustrating dual gradient ascent.\n",
    "\n",
    "Suppose we have a problem where we can take one of five actions, and get a reward based on the action we take (defined as the q vector). Then it's clear that we should take the action associated with the maximum reward."
   ]
  },
  {
   "cell_type": "code",
   "execution_count": 2,
   "metadata": {
    "collapsed": false
   },
   "outputs": [
    {
     "name": "stdout",
     "output_type": "stream",
     "text": [
      "status: optimal\n",
      "optimal value 5.0\n",
      "optimal var [0.0, 0.0, 0.0, 0.0, 1.0]\n"
     ]
    }
   ],
   "source": [
    "# Basic unconstrained problem; q is vector of rewards for taking actions a1, a2, a3, a4, a5\n",
    "# p is our optimal probability distribution over actions\n",
    "\n",
    "q = np.array([1,2,3,4,5])\n",
    "p = cvx.Variable(5)\n",
    "e_reward = q.T * p\n",
    "obj = cvx.Maximize(e_reward)\n",
    "constraints = [p >= 0, cvx.sum_entries(p) == 1]\n",
    "\n",
    "prob = cvx.Problem(obj, constraints)\n",
    "prob.solve()  # Returns the optimal value.\n",
    "print \"status:\", prob.status\n",
    "print \"optimal value\", round(prob.value, 3)\n",
    "print \"optimal var\", [round(p, 3) for p in p.value]"
   ]
  },
  {
   "cell_type": "markdown",
   "metadata": {},
   "source": [
    "Now suppose that we also have a secondary objective in addition to maximizing the reward: maximize the entropy. This corresponds to our controller trying to maximize both the amount of randomness in our action and the reward. We solve this via an iterative procedure (dual gradient ascent) where we alternate between two steps. Here, we dualize the constraint of $p$ being a probability distribution ($1^Tp = 1$).\n",
    "\n",
    "(note that dual ascent is not necessary for solving this problem since we can actually directly solve the optimal value of the dual function).\n",
    "\n",
    "Here is the algorithm: Start with some initial dual variable $\\nu$ which represents how much we are penalized for violating the constraint.\n",
    "\n",
    "\n",
    "Alternate between two steps:\n",
    "1. Solve for the distribution $p$ that maximizes $p = \\arg \\max_{p} L(p, \\lambda) = \\arg \\max_{p} q^T p + H(p) + \\nu (1^T p - 1)$\n",
    "2. Take a gradient step on $\\nu$. This corresponds to how much we are violating the constraint."
   ]
  },
  {
   "cell_type": "code",
   "execution_count": 3,
   "metadata": {
    "collapsed": false
   },
   "outputs": [],
   "source": [
    "def dual_ascent_entropy(q, entropy_weight = 1, init_nu = 1.0,\n",
    "                        iterations = 200, print_every = None, step_size = 2e-2):\n",
    "    nus = []\n",
    "    total_prob = []\n",
    "    nu = init_nu\n",
    "    p = np.zeros(q.size)\n",
    "    for i in range(iterations):\n",
    "        \n",
    "        # solving the problem min_ nu max_ p   L(x, nu)\n",
    "        # for a fixed nu, we can solve for p by setting the gradient to 0\n",
    "        p = np.exp(q / entropy_weight + nu - 1)\n",
    "        if print_every and i % print_every == 0:\n",
    "            print(\"*\" * 10 + \" iteration: {} \".format(i) + \"*\" * 10)\n",
    "            print(\"p: {}\".format([round(x, 3) for x in list(p)]))\n",
    "            print(\"sum p: {}\".format(round(np.sum(p), 3)))\n",
    "        \n",
    "        # minimizing over nu, gradient is constraint violation!\n",
    "        gradient = np.sum(p) - 1\n",
    "        nu = nu - step_size * gradient\n",
    "        if print_every and i % print_every == 0:\n",
    "            print(\"gradient: {}\".format(round(gradient, 3)))\n",
    "            print(\"nu: {}\".format(round(nu, 3)))\n",
    "        \n",
    "        total_prob.append(np.sum(p))\n",
    "        nus.append(nu)\n",
    "    print(\"final p: {}\".format([round(x, 3) for x in list(p)]))\n",
    "    return total_prob, nus\n",
    "        "
   ]
  },
  {
   "cell_type": "code",
   "execution_count": 4,
   "metadata": {
    "collapsed": false
   },
   "outputs": [
    {
     "name": "stdout",
     "output_type": "stream",
     "text": [
      "********** iteration: 0 **********\n",
      "p: [2.718, 7.389, 20.086, 54.598, 148.413]\n",
      "sum p: 233.204\n",
      "gradient: 232.204\n",
      "nu: -3.644\n",
      "********** iteration: 50 **********\n",
      "p: [0.015, 0.04, 0.108, 0.294, 0.8]\n",
      "sum p: 1.257\n",
      "gradient: 0.257\n",
      "nu: -4.228\n",
      "********** iteration: 100 **********\n",
      "p: [0.013, 0.034, 0.093, 0.253, 0.688]\n",
      "sum p: 1.08\n",
      "gradient: 0.08\n",
      "nu: -4.376\n",
      "********** iteration: 150 **********\n",
      "p: [0.012, 0.033, 0.089, 0.241, 0.654]\n",
      "sum p: 1.028\n",
      "gradient: 0.028\n",
      "nu: -4.425\n",
      "********** iteration: 200 **********\n",
      "p: [0.012, 0.032, 0.087, 0.236, 0.643]\n",
      "sum p: 1.01\n",
      "gradient: 0.01\n",
      "nu: -4.442\n",
      "********** iteration: 250 **********\n",
      "p: [0.012, 0.032, 0.086, 0.235, 0.639]\n",
      "sum p: 1.004\n",
      "gradient: 0.004\n",
      "nu: -4.448\n",
      "final p: [0.012, 0.032, 0.086, 0.234, 0.637]\n"
     ]
    }
   ],
   "source": [
    "q = np.array([1,2,3,4,5])\n",
    "iterations = 300\n",
    "total_prob, nus = dual_ascent_entropy(q, iterations = iterations, print_every=50)\n"
   ]
  },
  {
   "cell_type": "code",
   "execution_count": 5,
   "metadata": {
    "collapsed": false
   },
   "outputs": [
    {
     "data": {
      "image/png": "[encoded data removed]",
      "text/plain": [
       "<matplotlib.figure.Figure at 0x10dcfcf10>"
      ]
     },
     "metadata": {},
     "output_type": "display_data"
    }
   ],
   "source": [
    "plt.title(\"Total probability over time\")\n",
    "plt.xlabel(\"Iterations\")\n",
    "plt.plot(range(iterations)[1:], total_prob[1:])\n",
    "plt.show()"
   ]
  },
  {
   "cell_type": "code",
   "execution_count": 6,
   "metadata": {
    "collapsed": false
   },
   "outputs": [
    {
     "data": {
      "image/png": "[encoded data removed]",
      "text/plain": [
       "<matplotlib.figure.Figure at 0x10dde0ad0>"
      ]
     },
     "metadata": {},
     "output_type": "display_data"
    }
   ],
   "source": [
    "plt.title(\"Dual variable over time\")\n",
    "plt.xlabel(\"Iterations\")\n",
    "plt.plot(range(iterations)[1:], nus[1:])\n",
    "plt.show()"
   ]
  },
  {
   "cell_type": "markdown",
   "metadata": {},
   "source": [
    "As a check we get the same solution in cvxpy."
   ]
  },
  {
   "cell_type": "code",
   "execution_count": 7,
   "metadata": {
    "collapsed": false
   },
   "outputs": [
    {
     "name": "stdout",
     "output_type": "stream",
     "text": [
      "status: optimal\n",
      "optimal value 5.452\n",
      "optimal var [0.012, 0.032, 0.086, 0.234, 0.636]\n"
     ]
    }
   ],
   "source": [
    "# Entropy constrained problem\n",
    "\n",
    "q = np.array([1,2,3,4,5])\n",
    "p = cvx.Variable(5)\n",
    "e_reward = q.T * p\n",
    "entropy_weight = 1\n",
    "entropy = cvx.sum_entries(cvx.entr(p))\n",
    "obj = cvx.Maximize(e_reward + entropy_weight * entropy)\n",
    "constraints = [p >= 0, cvx.sum_entries(p) == 1]\n",
    "\n",
    "prob = cvx.Problem(obj, constraints)\n",
    "prob.solve()  # Returns the optimal value.\n",
    "print \"status:\", prob.status\n",
    "print \"optimal value\", round(prob.value, 3)\n",
    "print \"optimal var\", [round(p, 3) for p in p.value]"
   ]
  },
  {
   "cell_type": "code",
   "execution_count": null,
   "metadata": {
    "collapsed": true
   },
   "outputs": [],
   "source": []
  }
 ],
 "metadata": {
  "anaconda-cloud": {},
  "kernelspec": {
   "display_name": "Python [rllab]",
   "language": "python",
   "name": "Python [rllab]"
  },
  "language_info": {
   "codemirror_mode": {
    "name": "ipython",
    "version": 2
   },
   "file_extension": ".py",
   "mimetype": "text/x-python",
   "name": "python",
   "nbconvert_exporter": "python",
   "pygments_lexer": "ipython2",
   "version": "2.7.10"
  }
 },
 "nbformat": 4,
 "nbformat_minor": 0
}
